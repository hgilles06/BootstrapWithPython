{
 "cells": [
  {
   "cell_type": "markdown",
   "metadata": {},
   "source": [
    "# Bootstrap with R"
   ]
  },
  {
   "cell_type": "markdown",
   "metadata": {},
   "source": [
    "This notebook is the result to tasks in the file \"Exercices\". (Source: Russell Davidson)"
   ]
  },
  {
   "cell_type": "markdown",
   "metadata": {},
   "source": [
    "## Libraries importation"
   ]
  },
  {
   "cell_type": "code",
   "execution_count": 1,
   "metadata": {},
   "outputs": [
    {
     "name": "stderr",
     "output_type": "stream",
     "text": [
      "Warning message:\n",
      "\"package 'DataCombine' was built under R version 3.4.4\""
     ]
    }
   ],
   "source": [
    "library(boot)\n",
    "library(DataCombine)\n",
    "library(MASS)\n",
    "library(resample)"
   ]
  },
  {
   "cell_type": "markdown",
   "metadata": {},
   "source": [
    "# 1. "
   ]
  },
  {
   "cell_type": "markdown",
   "metadata": {},
   "source": [
    "#### Data\n",
    "\n",
    "Source :\n",
    "\n",
    "Russell Davidson and James G. MacKinnon, Econometric Theory and Methods, New York, Oxford University Press, 2004."
   ]
  },
  {
   "cell_type": "code",
   "execution_count": 2,
   "metadata": {
    "scrolled": false
   },
   "outputs": [
    {
     "data": {
      "text/html": [
       "<table>\n",
       "<thead><tr><th scope=col>V1</th><th scope=col>V2</th><th scope=col>V3</th><th scope=col>V4</th><th scope=col>V5</th></tr></thead>\n",
       "<tbody>\n",
       "\t<tr><td>1      </td><td>1947   </td><td>1      </td><td>59505.0</td><td>57168  </td></tr>\n",
       "\t<tr><td>2      </td><td>1947   </td><td>2      </td><td>59717.4</td><td>55464  </td></tr>\n",
       "\t<tr><td>3      </td><td>1947   </td><td>3      </td><td>59039.1</td><td>56332  </td></tr>\n",
       "\t<tr><td>4      </td><td>1947   </td><td>4      </td><td>61342.6</td><td>55836  </td></tr>\n",
       "\t<tr><td>5      </td><td>1948   </td><td>1      </td><td>60544.6</td><td>54488  </td></tr>\n",
       "\t<tr><td>6      </td><td>1948   </td><td>2      </td><td>60324.6</td><td>53676  </td></tr>\n",
       "</tbody>\n",
       "</table>\n"
      ],
      "text/latex": [
       "\\begin{tabular}{r|lllll}\n",
       " V1 & V2 & V3 & V4 & V5\\\\\n",
       "\\hline\n",
       "\t 1       & 1947    & 1       & 59505.0 & 57168  \\\\\n",
       "\t 2       & 1947    & 2       & 59717.4 & 55464  \\\\\n",
       "\t 3       & 1947    & 3       & 59039.1 & 56332  \\\\\n",
       "\t 4       & 1947    & 4       & 61342.6 & 55836  \\\\\n",
       "\t 5       & 1948    & 1       & 60544.6 & 54488  \\\\\n",
       "\t 6       & 1948    & 2       & 60324.6 & 53676  \\\\\n",
       "\\end{tabular}\n"
      ],
      "text/markdown": [
       "\n",
       "V1 | V2 | V3 | V4 | V5 | \n",
       "|---|---|---|---|---|---|\n",
       "| 1       | 1947    | 1       | 59505.0 | 57168   | \n",
       "| 2       | 1947    | 2       | 59717.4 | 55464   | \n",
       "| 3       | 1947    | 3       | 59039.1 | 56332   | \n",
       "| 4       | 1947    | 4       | 61342.6 | 55836   | \n",
       "| 5       | 1948    | 1       | 60544.6 | 54488   | \n",
       "| 6       | 1948    | 2       | 60324.6 | 53676   | \n",
       "\n",
       "\n"
      ],
      "text/plain": [
       "  V1 V2   V3 V4      V5   \n",
       "1 1  1947 1  59505.0 57168\n",
       "2 2  1947 2  59717.4 55464\n",
       "3 3  1947 3  59039.1 56332\n",
       "4 4  1947 4  61342.6 55836\n",
       "5 5  1948 1  60544.6 54488\n",
       "6 6  1948 2  60324.6 53676"
      ]
     },
     "metadata": {},
     "output_type": "display_data"
    }
   ],
   "source": [
    "consumption_df = read.csv(url(\"https://russell-davidson.arts.mcgill.ca/data/consumption.csv\"), header = FALSE)\n",
    "head(consumption_df)"
   ]
  },
  {
   "cell_type": "code",
   "execution_count": 3,
   "metadata": {},
   "outputs": [
    {
     "data": {
      "text/html": [
       "<table>\n",
       "<thead><tr><th></th><th scope=col>V1</th><th scope=col>V2</th><th scope=col>V3</th><th scope=col>V4</th><th scope=col>V5</th></tr></thead>\n",
       "<tbody>\n",
       "\t<tr><th scope=row>195</th><td>195     </td><td>1995    </td><td>3       </td><td>388239.8</td><td>359348  </td></tr>\n",
       "\t<tr><th scope=row>196</th><td>196     </td><td>1995    </td><td>4       </td><td>390576.6</td><td>359372  </td></tr>\n",
       "\t<tr><th scope=row>197</th><td>197     </td><td>1996    </td><td>1       </td><td>391381.5</td><td>363896  </td></tr>\n",
       "\t<tr><th scope=row>198</th><td>198     </td><td>1996    </td><td>2       </td><td>389502.6</td><td>364428  </td></tr>\n",
       "\t<tr><th scope=row>199</th><td>199     </td><td>1996    </td><td>3       </td><td>388282.1</td><td>366224  </td></tr>\n",
       "\t<tr><th scope=row>200</th><td>200     </td><td>1996    </td><td>4       </td><td>388804.1</td><td>371236  </td></tr>\n",
       "</tbody>\n",
       "</table>\n"
      ],
      "text/latex": [
       "\\begin{tabular}{r|lllll}\n",
       "  & V1 & V2 & V3 & V4 & V5\\\\\n",
       "\\hline\n",
       "\t195 & 195      & 1995     & 3        & 388239.8 & 359348  \\\\\n",
       "\t196 & 196      & 1995     & 4        & 390576.6 & 359372  \\\\\n",
       "\t197 & 197      & 1996     & 1        & 391381.5 & 363896  \\\\\n",
       "\t198 & 198      & 1996     & 2        & 389502.6 & 364428  \\\\\n",
       "\t199 & 199      & 1996     & 3        & 388282.1 & 366224  \\\\\n",
       "\t200 & 200      & 1996     & 4        & 388804.1 & 371236  \\\\\n",
       "\\end{tabular}\n"
      ],
      "text/markdown": [
       "\n",
       "| <!--/--> | V1 | V2 | V3 | V4 | V5 | \n",
       "|---|---|---|---|---|---|\n",
       "| 195 | 195      | 1995     | 3        | 388239.8 | 359348   | \n",
       "| 196 | 196      | 1995     | 4        | 390576.6 | 359372   | \n",
       "| 197 | 197      | 1996     | 1        | 391381.5 | 363896   | \n",
       "| 198 | 198      | 1996     | 2        | 389502.6 | 364428   | \n",
       "| 199 | 199      | 1996     | 3        | 388282.1 | 366224   | \n",
       "| 200 | 200      | 1996     | 4        | 388804.1 | 371236   | \n",
       "\n",
       "\n"
      ],
      "text/plain": [
       "    V1  V2   V3 V4       V5    \n",
       "195 195 1995 3  388239.8 359348\n",
       "196 196 1995 4  390576.6 359372\n",
       "197 197 1996 1  391381.5 363896\n",
       "198 198 1996 2  389502.6 364428\n",
       "199 199 1996 3  388282.1 366224\n",
       "200 200 1996 4  388804.1 371236"
      ]
     },
     "metadata": {},
     "output_type": "display_data"
    }
   ],
   "source": [
    "tail(consumption_df)"
   ]
  },
  {
   "cell_type": "code",
   "execution_count": 4,
   "metadata": {},
   "outputs": [
    {
     "data": {
      "text/html": [
       "<ol class=list-inline>\n",
       "\t<li>200</li>\n",
       "\t<li>5</li>\n",
       "</ol>\n"
      ],
      "text/latex": [
       "\\begin{enumerate*}\n",
       "\\item 200\n",
       "\\item 5\n",
       "\\end{enumerate*}\n"
      ],
      "text/markdown": [
       "1. 200\n",
       "2. 5\n",
       "\n",
       "\n"
      ],
      "text/plain": [
       "[1] 200   5"
      ]
     },
     "metadata": {},
     "output_type": "display_data"
    }
   ],
   "source": [
    "#dimenssion of df\n",
    "dim(consumption_df)"
   ]
  },
  {
   "cell_type": "markdown",
   "metadata": {},
   "source": [
    "#### Data description"
   ]
  },
  {
   "cell_type": "markdown",
   "metadata": {},
   "source": [
    "Column 1 is the observation number.\n",
    "\n",
    "Column 2 is the year.\n",
    "\n",
    "Column 3 is the quarter. \n",
    "\n",
    "Column 4 is YD, Personal disposable income, 1986 dollars, Canada, SA \n",
    "\n",
    "Column 5 is CE, Personal consumption expenditure, 1986 dollars, Canada, SA."
   ]
  },
  {
   "cell_type": "code",
   "execution_count": 5,
   "metadata": {},
   "outputs": [
    {
     "data": {
      "text/html": [
       "<table>\n",
       "<thead><tr><th scope=col>obs</th><th scope=col>year</th><th scope=col>quarter</th><th scope=col>income</th><th scope=col>consum</th></tr></thead>\n",
       "<tbody>\n",
       "\t<tr><td>1      </td><td>1947   </td><td>1      </td><td>59505.0</td><td>57168  </td></tr>\n",
       "\t<tr><td>2      </td><td>1947   </td><td>2      </td><td>59717.4</td><td>55464  </td></tr>\n",
       "\t<tr><td>3      </td><td>1947   </td><td>3      </td><td>59039.1</td><td>56332  </td></tr>\n",
       "\t<tr><td>4      </td><td>1947   </td><td>4      </td><td>61342.6</td><td>55836  </td></tr>\n",
       "\t<tr><td>5      </td><td>1948   </td><td>1      </td><td>60544.6</td><td>54488  </td></tr>\n",
       "\t<tr><td>6      </td><td>1948   </td><td>2      </td><td>60324.6</td><td>53676  </td></tr>\n",
       "</tbody>\n",
       "</table>\n"
      ],
      "text/latex": [
       "\\begin{tabular}{r|lllll}\n",
       " obs & year & quarter & income & consum\\\\\n",
       "\\hline\n",
       "\t 1       & 1947    & 1       & 59505.0 & 57168  \\\\\n",
       "\t 2       & 1947    & 2       & 59717.4 & 55464  \\\\\n",
       "\t 3       & 1947    & 3       & 59039.1 & 56332  \\\\\n",
       "\t 4       & 1947    & 4       & 61342.6 & 55836  \\\\\n",
       "\t 5       & 1948    & 1       & 60544.6 & 54488  \\\\\n",
       "\t 6       & 1948    & 2       & 60324.6 & 53676  \\\\\n",
       "\\end{tabular}\n"
      ],
      "text/markdown": [
       "\n",
       "obs | year | quarter | income | consum | \n",
       "|---|---|---|---|---|---|\n",
       "| 1       | 1947    | 1       | 59505.0 | 57168   | \n",
       "| 2       | 1947    | 2       | 59717.4 | 55464   | \n",
       "| 3       | 1947    | 3       | 59039.1 | 56332   | \n",
       "| 4       | 1947    | 4       | 61342.6 | 55836   | \n",
       "| 5       | 1948    | 1       | 60544.6 | 54488   | \n",
       "| 6       | 1948    | 2       | 60324.6 | 53676   | \n",
       "\n",
       "\n"
      ],
      "text/plain": [
       "  obs year quarter income  consum\n",
       "1 1   1947 1       59505.0 57168 \n",
       "2 2   1947 2       59717.4 55464 \n",
       "3 3   1947 3       59039.1 56332 \n",
       "4 4   1947 4       61342.6 55836 \n",
       "5 5   1948 1       60544.6 54488 \n",
       "6 6   1948 2       60324.6 53676 "
      ]
     },
     "metadata": {},
     "output_type": "display_data"
    }
   ],
   "source": [
    "colnames(consumption_df) = c(\"obs\", \"year\", \"quarter\", \"income\", \"consum\")\n",
    "head(consumption_df)"
   ]
  },
  {
   "cell_type": "markdown",
   "metadata": {},
   "source": [
    "#### Variable construction"
   ]
  },
  {
   "cell_type": "markdown",
   "metadata": {},
   "source": [
    "$\\left\\{\n",
    "    \\begin{array}{ll}\n",
    "        c_t :\\mbox{  logarithm of consumption,}  \\\\\n",
    "        y_t :\\mbox{  logarithm of disposable income} \n",
    "     \\end{array}\n",
    "\\right.$"
   ]
  },
  {
   "cell_type": "markdown",
   "metadata": {},
   "source": [
    "NB : For period 1953:1 to 1996:4\n",
    "\n",
    "Selection of data for the period 1953:1 to 1996:4"
   ]
  },
  {
   "cell_type": "code",
   "execution_count": 6,
   "metadata": {},
   "outputs": [
    {
     "data": {
      "text/html": [
       "<table>\n",
       "<thead><tr><th></th><th scope=col>obs</th><th scope=col>year</th><th scope=col>quarter</th><th scope=col>income</th><th scope=col>consum</th></tr></thead>\n",
       "<tbody>\n",
       "\t<tr><th scope=row>25</th><td>25     </td><td>1953   </td><td>1      </td><td>77918.8</td><td>70680  </td></tr>\n",
       "\t<tr><th scope=row>26</th><td>26     </td><td>1953   </td><td>2      </td><td>78343.0</td><td>71328  </td></tr>\n",
       "\t<tr><th scope=row>27</th><td>27     </td><td>1953   </td><td>3      </td><td>78300.9</td><td>71216  </td></tr>\n",
       "\t<tr><th scope=row>28</th><td>28     </td><td>1953   </td><td>4      </td><td>78995.4</td><td>72456  </td></tr>\n",
       "\t<tr><th scope=row>29</th><td>29     </td><td>1954   </td><td>1      </td><td>77061.9</td><td>72052  </td></tr>\n",
       "\t<tr><th scope=row>30</th><td>30     </td><td>1954   </td><td>2      </td><td>77282.0</td><td>73592  </td></tr>\n",
       "</tbody>\n",
       "</table>\n"
      ],
      "text/latex": [
       "\\begin{tabular}{r|lllll}\n",
       "  & obs & year & quarter & income & consum\\\\\n",
       "\\hline\n",
       "\t25 & 25      & 1953    & 1       & 77918.8 & 70680  \\\\\n",
       "\t26 & 26      & 1953    & 2       & 78343.0 & 71328  \\\\\n",
       "\t27 & 27      & 1953    & 3       & 78300.9 & 71216  \\\\\n",
       "\t28 & 28      & 1953    & 4       & 78995.4 & 72456  \\\\\n",
       "\t29 & 29      & 1954    & 1       & 77061.9 & 72052  \\\\\n",
       "\t30 & 30      & 1954    & 2       & 77282.0 & 73592  \\\\\n",
       "\\end{tabular}\n"
      ],
      "text/markdown": [
       "\n",
       "| <!--/--> | obs | year | quarter | income | consum | \n",
       "|---|---|---|---|---|---|\n",
       "| 25 | 25      | 1953    | 1       | 77918.8 | 70680   | \n",
       "| 26 | 26      | 1953    | 2       | 78343.0 | 71328   | \n",
       "| 27 | 27      | 1953    | 3       | 78300.9 | 71216   | \n",
       "| 28 | 28      | 1953    | 4       | 78995.4 | 72456   | \n",
       "| 29 | 29      | 1954    | 1       | 77061.9 | 72052   | \n",
       "| 30 | 30      | 1954    | 2       | 77282.0 | 73592   | \n",
       "\n",
       "\n"
      ],
      "text/plain": [
       "   obs year quarter income  consum\n",
       "25 25  1953 1       77918.8 70680 \n",
       "26 26  1953 2       78343.0 71328 \n",
       "27 27  1953 3       78300.9 71216 \n",
       "28 28  1953 4       78995.4 72456 \n",
       "29 29  1954 1       77061.9 72052 \n",
       "30 30  1954 2       77282.0 73592 "
      ]
     },
     "metadata": {},
     "output_type": "display_data"
    }
   ],
   "source": [
    "df = consumption_df[consumption_df$year >= 1953,]\n",
    "head(df)"
   ]
  },
  {
   "cell_type": "markdown",
   "metadata": {},
   "source": [
    "Creating $c_t$ and $y_t$ :"
   ]
  },
  {
   "cell_type": "code",
   "execution_count": 7,
   "metadata": {
    "scrolled": true
   },
   "outputs": [
    {
     "data": {
      "text/html": [
       "<table>\n",
       "<thead><tr><th></th><th scope=col>obs</th><th scope=col>year</th><th scope=col>quarter</th><th scope=col>income</th><th scope=col>consum</th><th scope=col>ct</th><th scope=col>yt</th></tr></thead>\n",
       "<tbody>\n",
       "\t<tr><th scope=row>25</th><td>25      </td><td>1953    </td><td>1       </td><td>77918.8 </td><td>70680   </td><td>11.16592</td><td>11.26342</td></tr>\n",
       "\t<tr><th scope=row>26</th><td>26      </td><td>1953    </td><td>2       </td><td>78343.0 </td><td>71328   </td><td>11.17504</td><td>11.26885</td></tr>\n",
       "\t<tr><th scope=row>27</th><td>27      </td><td>1953    </td><td>3       </td><td>78300.9 </td><td>71216   </td><td>11.17347</td><td>11.26831</td></tr>\n",
       "\t<tr><th scope=row>28</th><td>28      </td><td>1953    </td><td>4       </td><td>78995.4 </td><td>72456   </td><td>11.19073</td><td>11.27714</td></tr>\n",
       "\t<tr><th scope=row>29</th><td>29      </td><td>1954    </td><td>1       </td><td>77061.9 </td><td>72052   </td><td>11.18514</td><td>11.25236</td></tr>\n",
       "\t<tr><th scope=row>30</th><td>30      </td><td>1954    </td><td>2       </td><td>77282.0 </td><td>73592   </td><td>11.20629</td><td>11.25522</td></tr>\n",
       "</tbody>\n",
       "</table>\n"
      ],
      "text/latex": [
       "\\begin{tabular}{r|lllllll}\n",
       "  & obs & year & quarter & income & consum & ct & yt\\\\\n",
       "\\hline\n",
       "\t25 & 25       & 1953     & 1        & 77918.8  & 70680    & 11.16592 & 11.26342\\\\\n",
       "\t26 & 26       & 1953     & 2        & 78343.0  & 71328    & 11.17504 & 11.26885\\\\\n",
       "\t27 & 27       & 1953     & 3        & 78300.9  & 71216    & 11.17347 & 11.26831\\\\\n",
       "\t28 & 28       & 1953     & 4        & 78995.4  & 72456    & 11.19073 & 11.27714\\\\\n",
       "\t29 & 29       & 1954     & 1        & 77061.9  & 72052    & 11.18514 & 11.25236\\\\\n",
       "\t30 & 30       & 1954     & 2        & 77282.0  & 73592    & 11.20629 & 11.25522\\\\\n",
       "\\end{tabular}\n"
      ],
      "text/markdown": [
       "\n",
       "| <!--/--> | obs | year | quarter | income | consum | ct | yt | \n",
       "|---|---|---|---|---|---|\n",
       "| 25 | 25       | 1953     | 1        | 77918.8  | 70680    | 11.16592 | 11.26342 | \n",
       "| 26 | 26       | 1953     | 2        | 78343.0  | 71328    | 11.17504 | 11.26885 | \n",
       "| 27 | 27       | 1953     | 3        | 78300.9  | 71216    | 11.17347 | 11.26831 | \n",
       "| 28 | 28       | 1953     | 4        | 78995.4  | 72456    | 11.19073 | 11.27714 | \n",
       "| 29 | 29       | 1954     | 1        | 77061.9  | 72052    | 11.18514 | 11.25236 | \n",
       "| 30 | 30       | 1954     | 2        | 77282.0  | 73592    | 11.20629 | 11.25522 | \n",
       "\n",
       "\n"
      ],
      "text/plain": [
       "   obs year quarter income  consum ct       yt      \n",
       "25 25  1953 1       77918.8 70680  11.16592 11.26342\n",
       "26 26  1953 2       78343.0 71328  11.17504 11.26885\n",
       "27 27  1953 3       78300.9 71216  11.17347 11.26831\n",
       "28 28  1953 4       78995.4 72456  11.19073 11.27714\n",
       "29 29  1954 1       77061.9 72052  11.18514 11.25236\n",
       "30 30  1954 2       77282.0 73592  11.20629 11.25522"
      ]
     },
     "metadata": {},
     "output_type": "display_data"
    }
   ],
   "source": [
    "df[\"ct\"] = log(df$consum)\n",
    "df[\"yt\"] = log(df$income)\n",
    "head(df)"
   ]
  },
  {
   "cell_type": "markdown",
   "metadata": {},
   "source": [
    "Let's now consider the following model : \n",
    "\n",
    "$c_t = \\alpha + \\beta c_{t-1} + \\gamma_0 y_{t} + \\gamma_1 y_{t-1} + u_t$"
   ]
  },
  {
   "cell_type": "markdown",
   "metadata": {},
   "source": [
    "We want to test the null hypothesis : $ \\gamma_0 + \\gamma_1 = 0$.\n",
    "\n",
    "#### Let's first estimate the model with simple OLS:"
   ]
  },
  {
   "cell_type": "markdown",
   "metadata": {},
   "source": [
    "Generating the lag-1 variables"
   ]
  },
  {
   "cell_type": "code",
   "execution_count": 8,
   "metadata": {},
   "outputs": [
    {
     "name": "stderr",
     "output_type": "stream",
     "text": [
      "\n",
      "Remember to put df in time order before running.\n",
      "\n",
      "Lagging ct by 1 time units.\n",
      "\n",
      "\n",
      "Remember to put df in time order before running.\n",
      "\n",
      "Lagging yt by 1 time units.\n",
      "\n"
     ]
    },
    {
     "data": {
      "text/html": [
       "<table>\n",
       "<thead><tr><th></th><th scope=col>obs</th><th scope=col>year</th><th scope=col>quarter</th><th scope=col>income</th><th scope=col>consum</th><th scope=col>ct</th><th scope=col>yt</th><th scope=col>ct_1</th><th scope=col>yt_1</th></tr></thead>\n",
       "<tbody>\n",
       "\t<tr><th scope=row>25</th><td>25      </td><td>1953    </td><td>1       </td><td>77918.8 </td><td>70680   </td><td>11.16592</td><td>11.26342</td><td>      NA</td><td>      NA</td></tr>\n",
       "\t<tr><th scope=row>26</th><td>26      </td><td>1953    </td><td>2       </td><td>78343.0 </td><td>71328   </td><td>11.17504</td><td>11.26885</td><td>11.16592</td><td>11.26342</td></tr>\n",
       "\t<tr><th scope=row>27</th><td>27      </td><td>1953    </td><td>3       </td><td>78300.9 </td><td>71216   </td><td>11.17347</td><td>11.26831</td><td>11.17504</td><td>11.26885</td></tr>\n",
       "\t<tr><th scope=row>28</th><td>28      </td><td>1953    </td><td>4       </td><td>78995.4 </td><td>72456   </td><td>11.19073</td><td>11.27714</td><td>11.17347</td><td>11.26831</td></tr>\n",
       "\t<tr><th scope=row>29</th><td>29      </td><td>1954    </td><td>1       </td><td>77061.9 </td><td>72052   </td><td>11.18514</td><td>11.25236</td><td>11.19073</td><td>11.27714</td></tr>\n",
       "\t<tr><th scope=row>30</th><td>30      </td><td>1954    </td><td>2       </td><td>77282.0 </td><td>73592   </td><td>11.20629</td><td>11.25522</td><td>11.18514</td><td>11.25236</td></tr>\n",
       "</tbody>\n",
       "</table>\n"
      ],
      "text/latex": [
       "\\begin{tabular}{r|lllllllll}\n",
       "  & obs & year & quarter & income & consum & ct & yt & ct\\_1 & yt\\_1\\\\\n",
       "\\hline\n",
       "\t25 & 25       & 1953     & 1        & 77918.8  & 70680    & 11.16592 & 11.26342 &       NA &       NA\\\\\n",
       "\t26 & 26       & 1953     & 2        & 78343.0  & 71328    & 11.17504 & 11.26885 & 11.16592 & 11.26342\\\\\n",
       "\t27 & 27       & 1953     & 3        & 78300.9  & 71216    & 11.17347 & 11.26831 & 11.17504 & 11.26885\\\\\n",
       "\t28 & 28       & 1953     & 4        & 78995.4  & 72456    & 11.19073 & 11.27714 & 11.17347 & 11.26831\\\\\n",
       "\t29 & 29       & 1954     & 1        & 77061.9  & 72052    & 11.18514 & 11.25236 & 11.19073 & 11.27714\\\\\n",
       "\t30 & 30       & 1954     & 2        & 77282.0  & 73592    & 11.20629 & 11.25522 & 11.18514 & 11.25236\\\\\n",
       "\\end{tabular}\n"
      ],
      "text/markdown": [
       "\n",
       "| <!--/--> | obs | year | quarter | income | consum | ct | yt | ct_1 | yt_1 | \n",
       "|---|---|---|---|---|---|\n",
       "| 25 | 25       | 1953     | 1        | 77918.8  | 70680    | 11.16592 | 11.26342 |       NA |       NA | \n",
       "| 26 | 26       | 1953     | 2        | 78343.0  | 71328    | 11.17504 | 11.26885 | 11.16592 | 11.26342 | \n",
       "| 27 | 27       | 1953     | 3        | 78300.9  | 71216    | 11.17347 | 11.26831 | 11.17504 | 11.26885 | \n",
       "| 28 | 28       | 1953     | 4        | 78995.4  | 72456    | 11.19073 | 11.27714 | 11.17347 | 11.26831 | \n",
       "| 29 | 29       | 1954     | 1        | 77061.9  | 72052    | 11.18514 | 11.25236 | 11.19073 | 11.27714 | \n",
       "| 30 | 30       | 1954     | 2        | 77282.0  | 73592    | 11.20629 | 11.25522 | 11.18514 | 11.25236 | \n",
       "\n",
       "\n"
      ],
      "text/plain": [
       "   obs year quarter income  consum ct       yt       ct_1     yt_1    \n",
       "25 25  1953 1       77918.8 70680  11.16592 11.26342       NA       NA\n",
       "26 26  1953 2       78343.0 71328  11.17504 11.26885 11.16592 11.26342\n",
       "27 27  1953 3       78300.9 71216  11.17347 11.26831 11.17504 11.26885\n",
       "28 28  1953 4       78995.4 72456  11.19073 11.27714 11.17347 11.26831\n",
       "29 29  1954 1       77061.9 72052  11.18514 11.25236 11.19073 11.27714\n",
       "30 30  1954 2       77282.0 73592  11.20629 11.25522 11.18514 11.25236"
      ]
     },
     "metadata": {},
     "output_type": "display_data"
    }
   ],
   "source": [
    "df[\"ct_1\"] = slide(df, Var = 'ct', NewVar = \"ct_1\", slideBy = -1)$ct_1\n",
    "df[\"yt_1\"] = slide(df, Var = 'yt', NewVar = \"yt_1\", slideBy = -1)$yt_1\n",
    "head(df)"
   ]
  },
  {
   "cell_type": "code",
   "execution_count": 9,
   "metadata": {},
   "outputs": [
    {
     "data": {
      "text/html": [
       "<table>\n",
       "<thead><tr><th></th><th scope=col>obs</th><th scope=col>year</th><th scope=col>quarter</th><th scope=col>income</th><th scope=col>consum</th><th scope=col>ct</th><th scope=col>yt</th><th scope=col>ct_1</th><th scope=col>yt_1</th></tr></thead>\n",
       "<tbody>\n",
       "\t<tr><th scope=row>26</th><td>26      </td><td>1953    </td><td>2       </td><td>78343.0 </td><td>71328   </td><td>11.17504</td><td>11.26885</td><td>11.16592</td><td>11.26342</td></tr>\n",
       "\t<tr><th scope=row>27</th><td>27      </td><td>1953    </td><td>3       </td><td>78300.9 </td><td>71216   </td><td>11.17347</td><td>11.26831</td><td>11.17504</td><td>11.26885</td></tr>\n",
       "\t<tr><th scope=row>28</th><td>28      </td><td>1953    </td><td>4       </td><td>78995.4 </td><td>72456   </td><td>11.19073</td><td>11.27714</td><td>11.17347</td><td>11.26831</td></tr>\n",
       "\t<tr><th scope=row>29</th><td>29      </td><td>1954    </td><td>1       </td><td>77061.9 </td><td>72052   </td><td>11.18514</td><td>11.25236</td><td>11.19073</td><td>11.27714</td></tr>\n",
       "\t<tr><th scope=row>30</th><td>30      </td><td>1954    </td><td>2       </td><td>77282.0 </td><td>73592   </td><td>11.20629</td><td>11.25522</td><td>11.18514</td><td>11.25236</td></tr>\n",
       "\t<tr><th scope=row>31</th><td>31      </td><td>1954    </td><td>3       </td><td>78457.6 </td><td>73876   </td><td>11.21014</td><td>11.27031</td><td>11.20629</td><td>11.25522</td></tr>\n",
       "</tbody>\n",
       "</table>\n"
      ],
      "text/latex": [
       "\\begin{tabular}{r|lllllllll}\n",
       "  & obs & year & quarter & income & consum & ct & yt & ct\\_1 & yt\\_1\\\\\n",
       "\\hline\n",
       "\t26 & 26       & 1953     & 2        & 78343.0  & 71328    & 11.17504 & 11.26885 & 11.16592 & 11.26342\\\\\n",
       "\t27 & 27       & 1953     & 3        & 78300.9  & 71216    & 11.17347 & 11.26831 & 11.17504 & 11.26885\\\\\n",
       "\t28 & 28       & 1953     & 4        & 78995.4  & 72456    & 11.19073 & 11.27714 & 11.17347 & 11.26831\\\\\n",
       "\t29 & 29       & 1954     & 1        & 77061.9  & 72052    & 11.18514 & 11.25236 & 11.19073 & 11.27714\\\\\n",
       "\t30 & 30       & 1954     & 2        & 77282.0  & 73592    & 11.20629 & 11.25522 & 11.18514 & 11.25236\\\\\n",
       "\t31 & 31       & 1954     & 3        & 78457.6  & 73876    & 11.21014 & 11.27031 & 11.20629 & 11.25522\\\\\n",
       "\\end{tabular}\n"
      ],
      "text/markdown": [
       "\n",
       "| <!--/--> | obs | year | quarter | income | consum | ct | yt | ct_1 | yt_1 | \n",
       "|---|---|---|---|---|---|\n",
       "| 26 | 26       | 1953     | 2        | 78343.0  | 71328    | 11.17504 | 11.26885 | 11.16592 | 11.26342 | \n",
       "| 27 | 27       | 1953     | 3        | 78300.9  | 71216    | 11.17347 | 11.26831 | 11.17504 | 11.26885 | \n",
       "| 28 | 28       | 1953     | 4        | 78995.4  | 72456    | 11.19073 | 11.27714 | 11.17347 | 11.26831 | \n",
       "| 29 | 29       | 1954     | 1        | 77061.9  | 72052    | 11.18514 | 11.25236 | 11.19073 | 11.27714 | \n",
       "| 30 | 30       | 1954     | 2        | 77282.0  | 73592    | 11.20629 | 11.25522 | 11.18514 | 11.25236 | \n",
       "| 31 | 31       | 1954     | 3        | 78457.6  | 73876    | 11.21014 | 11.27031 | 11.20629 | 11.25522 | \n",
       "\n",
       "\n"
      ],
      "text/plain": [
       "   obs year quarter income  consum ct       yt       ct_1     yt_1    \n",
       "26 26  1953 2       78343.0 71328  11.17504 11.26885 11.16592 11.26342\n",
       "27 27  1953 3       78300.9 71216  11.17347 11.26831 11.17504 11.26885\n",
       "28 28  1953 4       78995.4 72456  11.19073 11.27714 11.17347 11.26831\n",
       "29 29  1954 1       77061.9 72052  11.18514 11.25236 11.19073 11.27714\n",
       "30 30  1954 2       77282.0 73592  11.20629 11.25522 11.18514 11.25236\n",
       "31 31  1954 3       78457.6 73876  11.21014 11.27031 11.20629 11.25522"
      ]
     },
     "metadata": {},
     "output_type": "display_data"
    }
   ],
   "source": [
    "#getting rid of the first line \n",
    "df = df[2:176,]\n",
    "head(df)"
   ]
  },
  {
   "cell_type": "markdown",
   "metadata": {},
   "source": [
    "#### OLS regression"
   ]
  },
  {
   "cell_type": "code",
   "execution_count": 10,
   "metadata": {},
   "outputs": [
    {
     "data": {
      "text/plain": [
       "\n",
       "Call:\n",
       "lm(formula = ct ~ ct_1 + yt + yt_1, data = df)\n",
       "\n",
       "Residuals:\n",
       "      Min        1Q    Median        3Q       Max \n",
       "-0.033910 -0.006417  0.001250  0.006129  0.025154 \n",
       "\n",
       "Coefficients:\n",
       "            Estimate Std. Error t value Pr(>|t|)    \n",
       "(Intercept)  0.06478    0.02210   2.931  0.00383 ** \n",
       "ct_1         0.96866    0.02254  42.977  < 2e-16 ***\n",
       "yt           0.29090    0.05527   5.263 4.20e-07 ***\n",
       "yt_1        -0.26457    0.05667  -4.668 6.11e-06 ***\n",
       "---\n",
       "Signif. codes:  0 '***' 0.001 '**' 0.01 '*' 0.05 '.' 0.1 ' ' 1\n",
       "\n",
       "Residual standard error: 0.009627 on 171 degrees of freedom\n",
       "Multiple R-squared:  0.9996,\tAdjusted R-squared:  0.9996 \n",
       "F-statistic: 1.591e+05 on 3 and 171 DF,  p-value: < 2.2e-16\n"
      ]
     },
     "metadata": {},
     "output_type": "display_data"
    }
   ],
   "source": [
    "results = lm(ct~  ct_1 + yt + yt_1 , df)\n",
    "summary(results)"
   ]
  },
  {
   "cell_type": "markdown",
   "metadata": {},
   "source": [
    "#### T-test"
   ]
  },
  {
   "cell_type": "markdown",
   "metadata": {},
   "source": [
    "$\\left\\{\n",
    "    \\begin{array}{ll}\n",
    "        H_0 :\\gamma_0 + \\gamma_1 = 0  \\\\\n",
    "        H_1 :\\gamma_0 + \\gamma_1 \\neq 0 \n",
    "     \\end{array}\n",
    "\\right.$"
   ]
  },
  {
   "cell_type": "markdown",
   "metadata": {},
   "source": [
    "$ t* = \\frac{\\hat{\\gamma}_0 + \\hat{\\gamma}_1}{\\hat{\\sigma}_{\\hat{\\gamma}_0 + \\hat{\\gamma}_1}} \\sim N(0,1)$"
   ]
  },
  {
   "cell_type": "markdown",
   "metadata": {},
   "source": [
    "Covariance-variance matrix of parameters : $V(\\hat{\\beta})$"
   ]
  },
  {
   "cell_type": "code",
   "execution_count": 11,
   "metadata": {},
   "outputs": [
    {
     "data": {
      "text/html": [
       "<table>\n",
       "<thead><tr><th></th><th scope=col>(Intercept)</th><th scope=col>ct_1</th><th scope=col>yt</th><th scope=col>yt_1</th></tr></thead>\n",
       "<tbody>\n",
       "\t<tr><th scope=row>(Intercept)</th><td> 0.0004883087</td><td>-0.0003151245</td><td>-0.0001455246</td><td> 0.0004181575</td></tr>\n",
       "\t<tr><th scope=row>ct_1</th><td>-0.0003151245</td><td> 0.0005079955</td><td>-0.0001385599</td><td>-0.0003391976</td></tr>\n",
       "\t<tr><th scope=row>yt</th><td>-0.0001455246</td><td>-0.0001385599</td><td> 0.0030545687</td><td>-0.0029075896</td></tr>\n",
       "\t<tr><th scope=row>yt_1</th><td> 0.0004181575</td><td>-0.0003391976</td><td>-0.0029075896</td><td> 0.0032118588</td></tr>\n",
       "</tbody>\n",
       "</table>\n"
      ],
      "text/latex": [
       "\\begin{tabular}{r|llll}\n",
       "  & (Intercept) & ct\\_1 & yt & yt\\_1\\\\\n",
       "\\hline\n",
       "\t(Intercept) &  0.0004883087 & -0.0003151245 & -0.0001455246 &  0.0004181575\\\\\n",
       "\tct\\_1 & -0.0003151245 &  0.0005079955 & -0.0001385599 & -0.0003391976\\\\\n",
       "\tyt & -0.0001455246 & -0.0001385599 &  0.0030545687 & -0.0029075896\\\\\n",
       "\tyt\\_1 &  0.0004181575 & -0.0003391976 & -0.0029075896 &  0.0032118588\\\\\n",
       "\\end{tabular}\n"
      ],
      "text/markdown": [
       "\n",
       "| <!--/--> | (Intercept) | ct_1 | yt | yt_1 | \n",
       "|---|---|---|---|\n",
       "| (Intercept) |  0.0004883087 | -0.0003151245 | -0.0001455246 |  0.0004181575 | \n",
       "| ct_1 | -0.0003151245 |  0.0005079955 | -0.0001385599 | -0.0003391976 | \n",
       "| yt | -0.0001455246 | -0.0001385599 |  0.0030545687 | -0.0029075896 | \n",
       "| yt_1 |  0.0004181575 | -0.0003391976 | -0.0029075896 |  0.0032118588 | \n",
       "\n",
       "\n"
      ],
      "text/plain": [
       "            (Intercept)   ct_1          yt            yt_1         \n",
       "(Intercept)  0.0004883087 -0.0003151245 -0.0001455246  0.0004181575\n",
       "ct_1        -0.0003151245  0.0005079955 -0.0001385599 -0.0003391976\n",
       "yt          -0.0001455246 -0.0001385599  0.0030545687 -0.0029075896\n",
       "yt_1         0.0004181575 -0.0003391976 -0.0029075896  0.0032118588"
      ]
     },
     "metadata": {},
     "output_type": "display_data"
    }
   ],
   "source": [
    "cova = vcov(results)\n",
    "cova"
   ]
  },
  {
   "cell_type": "markdown",
   "metadata": {},
   "source": [
    "$\\hat{\\sigma}_{\\hat{\\gamma}_0 + \\hat{\\gamma}_1}^2 = \\hat{\\sigma}_{\\hat{\\gamma}_0}^2 + \\hat{\\sigma}_{\\hat{\\gamma}_1}^2 + 2 \\hat{cov}(\\hat{\\gamma}_0, \\hat{\\gamma}_1)$"
   ]
  },
  {
   "cell_type": "markdown",
   "metadata": {},
   "source": [
    "$\\hat{\\sigma}_{\\hat{\\gamma}_0 + \\hat{\\gamma}_1} = \\sqrt{ \\hat{\\sigma}_{\\hat{\\gamma}_0}^2 + \\hat{\\sigma}_{\\hat{\\gamma}_1}^2 + 2 \\hat{cov}(\\hat{\\gamma}_0, \\hat{\\gamma}_1)}$"
   ]
  },
  {
   "cell_type": "code",
   "execution_count": 12,
   "metadata": {},
   "outputs": [
    {
     "name": "stdout",
     "output_type": "stream",
     "text": [
      "t =  1.239553"
     ]
    }
   ],
   "source": [
    "gammat0_hat = results$coefficients[\"yt\"]\n",
    "gammat1_hat = results$coefficients[\"yt_1\"]\n",
    "sigma_hat = sqrt(cova[\"yt\",\"yt\"] + cova[\"yt_1\",\"yt_1\"] + 2 * cova[\"yt\",\"yt_1\"])\n",
    "\n",
    "t = (gammat0_hat + gammat1_hat)/sigma_hat\n",
    "cat(\"t = \", t)"
   ]
  },
  {
   "cell_type": "markdown",
   "metadata": {},
   "source": [
    "$t_0 = 1.24 < 1.96$"
   ]
  },
  {
   "cell_type": "markdown",
   "metadata": {},
   "source": [
    "So we can't reject $H_0$ when using a critical value of 5%. Then  :\n",
    "$\\gamma_0 + \\gamma_1 = 0$"
   ]
  },
  {
   "cell_type": "markdown",
   "metadata": {},
   "source": [
    "## Bootstrap tests"
   ]
  },
  {
   "cell_type": "markdown",
   "metadata": {},
   "source": [
    "#### Parametric bootstrap"
   ]
  },
  {
   "cell_type": "markdown",
   "metadata": {},
   "source": [
    "Procedure : \n",
    "\n",
    "- We will assume $u_t \\sim N(\\mu,\\sigma^2)$\n",
    "- Resampling the data : we will take as number of samples 999, each one of same size as the initial sample (175)\n",
    "- Reestimating the parameters for each sample using Maximum Likelihood\n",
    "- Re-doing the test for each estmation"
   ]
  },
  {
   "cell_type": "markdown",
   "metadata": {},
   "source": [
    "$ \\hat{P}_{value} = \\frac{1}{N} \\sum_{i = 1}^{N} 1|( |t_i| > t_0)$ \n",
    "\n",
    "with N the number of samples, $t_i$ the t-statistic of the $i^{th}$ sample, and $t_0$ the t-statitic of the initial sample"
   ]
  },
  {
   "cell_type": "code",
   "execution_count": 13,
   "metadata": {
    "collapsed": true
   },
   "outputs": [],
   "source": [
    "T_parametric = c()\n",
    "R = c()\n",
    "Beta_param = c()\n",
    "\n",
    "for (s in 1:999) {\n",
    "\n",
    "    random = sample(1:175, size=175, replace = TRUE)\n",
    "    random_df = df[random,]\n",
    "    \n",
    "\n",
    "    reg = glm(ct ~ ct_1 + yt + yt_1, family=gaussian(), data=random_df)\n",
    "    \n",
    "    gammat0_hat = reg$coefficients[\"yt\"]\n",
    "    gammat1_hat = reg$coefficients[\"yt_1\"]\n",
    "    cova = vcov(reg)\n",
    "    sigma_hat = sqrt(cova[\"yt\",\"yt\"] + cova[\"yt_1\",\"yt_1\"] + 2 * cova[\"yt\",\"yt_1\"])\n",
    "\n",
    "    t = (gammat0_hat + gammat1_hat)/sigma_hat\n",
    "    T_parametric = c(T_parametric,t)\n",
    "    \n",
    "    R = c(R, as.integer(abs(t)<1.96))\n",
    "    \n",
    "    }\n",
    "\n",
    "p_value = mean(R)"
   ]
  },
  {
   "cell_type": "code",
   "execution_count": 14,
   "metadata": {},
   "outputs": [
    {
     "data": {
      "text/html": [
       "0.720720720720721"
      ],
      "text/latex": [
       "0.720720720720721"
      ],
      "text/markdown": [
       "0.720720720720721"
      ],
      "text/plain": [
       "[1] 0.7207207"
      ]
     },
     "metadata": {},
     "output_type": "display_data"
    }
   ],
   "source": [
    "p_value"
   ]
  },
  {
   "cell_type": "markdown",
   "metadata": {},
   "source": [
    "P-value = 0.7 > 0.05 :  so we don't reject the $H_0$ hypothesis at the critical value of 5%"
   ]
  },
  {
   "cell_type": "markdown",
   "metadata": {},
   "source": [
    "#### Non parametric bootstrap (using resampling)"
   ]
  },
  {
   "cell_type": "markdown",
   "metadata": {},
   "source": [
    " - Fitting the model by OLS and computing an initial t-statistic\n",
    " - Retaining the residuals and rescaling using studentizing method them : \n",
    "     \n",
    "     - Studentizing method : \n",
    "     \n",
    "     $ P_{X} = X(X^{T}X)^{-1}X^{T} $, the orthogonal projection matrix on X.\n",
    "     and $\\operatorname{var}(\\widehat{\\varepsilon}_i)=\\sigma^2(1-h_{ii})$ the variance of $\\widehat{\\varepsilon}_i$ with $h_{ii}$ the $i^{th}$ diagonal entry in $ P_{X}$ \n",
    "     \n",
    "      The studentized residuals are then : $t_{i}={\\widehat {\\varepsilon }_{i} \\over \\widehat {\\sigma }{\\sqrt  {1-h_{{ii}}\\ }}}$\n",
    " - Adding the randomly resampled studentized residuals, $t_{i}$, to the response variable $c_t$ :$ c_{t}^{*}=c_{t}+t_{i}$\n",
    " \n",
    " - Refiting the model using the fictitious response variables ${\\displaystyle c_{t}^{*}}$ and recomputing the t-statistic \n",
    " - Repeating the last 3 steps and doing the test for each fitting "
   ]
  },
  {
   "cell_type": "code",
   "execution_count": 15,
   "metadata": {},
   "outputs": [
    {
     "name": "stdout",
     "output_type": "stream",
     "text": [
      "t0 =  1.239553"
     ]
    }
   ],
   "source": [
    "#Computing t-stat from the initial data\n",
    "reg = lm(ct ~  ct_1 + yt + yt_1 , df)\n",
    "\n",
    "#test\n",
    "    \n",
    "gammat0_hat = reg$coefficients[\"yt\"]\n",
    "gammat1_hat = reg$coefficients[\"yt_1\"]\n",
    "cova = vcov(reg)\n",
    "sigma_hat = sqrt(cova[\"yt\",\"yt\"] + cova[\"yt_1\",\"yt_1\"] + 2 * cova[\"yt\",\"yt_1\"])\n",
    "\n",
    "t0 = (gammat0_hat + gammat1_hat)/sigma_hat\n",
    "cat(\"t0 = \", t0)"
   ]
  },
  {
   "cell_type": "markdown",
   "metadata": {},
   "source": [
    "The t statitic got using the initial sample is $t_0 = 1.24$"
   ]
  },
  {
   "cell_type": "code",
   "execution_count": 16,
   "metadata": {
    "collapsed": true
   },
   "outputs": [],
   "source": [
    "#generating the t-statistic from diferent samples\n",
    "\n",
    "T = c()\n",
    "R = c()\n",
    "\n",
    "for (s in 1:999) {\n",
    "    \n",
    "    \n",
    "    #getting the ct_star\n",
    "    st_residuals = studres(reg)  # studentized residuals\n",
    "    random_st_residuals = sample(st_residuals, size=175, replace = TRUE)\n",
    "    ct_star = df$ct + random_st_residuals\n",
    "\n",
    "    reg = lm(ct_star ~  ct_1 + yt + yt_1 , df)\n",
    "\n",
    "    #test\n",
    "    \n",
    "    gammat0_hat = reg$coefficients[\"yt\"]\n",
    "    gammat1_hat = reg$coefficients[\"yt_1\"]\n",
    "    cova = vcov(reg)\n",
    "    sigma_hat = sqrt(cova[\"yt\",\"yt\"] + cova[\"yt_1\",\"yt_1\"] + 2 * cova[\"yt\",\"yt_1\"])\n",
    "\n",
    "    t = (gammat0_hat + gammat1_hat)/sigma_hat\n",
    "    T = c(T,t)\n",
    "    \n",
    "\n",
    "\n",
    "    }\n",
    "\n",
    "\n",
    "p_value = mean(as.integer(T>t0))"
   ]
  },
  {
   "cell_type": "code",
   "execution_count": 17,
   "metadata": {},
   "outputs": [
    {
     "data": {
      "text/html": [
       "0.1001001001001"
      ],
      "text/latex": [
       "0.1001001001001"
      ],
      "text/markdown": [
       "0.1001001001001"
      ],
      "text/plain": [
       "[1] 0.1001001"
      ]
     },
     "metadata": {},
     "output_type": "display_data"
    }
   ],
   "source": [
    "p_value"
   ]
  },
  {
   "cell_type": "markdown",
   "metadata": {},
   "source": [
    "$P_{value} = 0.1 > 0.05$ :  so we don't reject the $H_0$ hypothesis at the critical value of 5%"
   ]
  },
  {
   "cell_type": "markdown",
   "metadata": {},
   "source": [
    "#### Graph of the empirical distribution function (EDF) of the bootstrap statistics (got from the parametric bootstrap) and the cumulative distribution function (CDF) of  the standard normal distribution."
   ]
  },
  {
   "cell_type": "code",
   "execution_count": 18,
   "metadata": {},
   "outputs": [
    {
     "data": {
      "image/png": "[encoded data removed]",
      "text/plain": [
       "Plot with title \"edf t-stats VS cdf Standard Normal Distribution\""
      ]
     },
     "metadata": {},
     "output_type": "display_data"
    }
   ],
   "source": [
    "edf = (1:999)/999\n",
    "x = sort(T_parametric)\n",
    "plot(x,edf, \"l\", main = \"edf t-stats VS cdf Standard Normal Distribution\")\n",
    "lines(x, pnorm(x), col = \"red\")\n",
    "text(-0.8, 0.35, \"CDF\", col = \"red\")\n",
    "text(2.6, 0.8, \"EDF\")"
   ]
  },
  {
   "cell_type": "markdown",
   "metadata": {},
   "source": [
    "We can see a big difference between the EDF and and the CDF : The EDF got by the parametric bootstrap is shifted at the right compared to the CDF of the standard normal distribution. So very likely, the EDF seems to be different from the CDF. Then assuming that $u_t$ follows the standard normal distribution is likely misleading. Then in this case, the test based on the non-parametric bootstrap is more reliable than the one based on the parametric bootstrap."
   ]
  },
  {
   "cell_type": "markdown",
   "metadata": {},
   "source": [
    "# 2."
   ]
  },
  {
   "cell_type": "markdown",
   "metadata": {},
   "source": [
    "$y = \\alpha + \\beta_1 x_1 + \\beta_2 x_2 + u$"
   ]
  },
  {
   "cell_type": "markdown",
   "metadata": {},
   "source": [
    "## Monte Carlo experiment to estimate the rejection probability at the 5% level"
   ]
  },
  {
   "cell_type": "markdown",
   "metadata": {},
   "source": [
    "Using $\\alpha = 1$, $\\beta_1 = 0$, $\\beta_2 = -2$ and $n = 20$."
   ]
  },
  {
   "cell_type": "code",
   "execution_count": 19,
   "metadata": {},
   "outputs": [
    {
     "data": {
      "text/html": [
       "<table>\n",
       "<thead><tr><th scope=col>x1</th><th scope=col>x2</th></tr></thead>\n",
       "<tbody>\n",
       "\t<tr><td>1.826408</td><td>4.623533</td></tr>\n",
       "\t<tr><td>3.771811</td><td>1.574504</td></tr>\n",
       "\t<tr><td>1.210247</td><td>3.719750</td></tr>\n",
       "\t<tr><td>1.231272</td><td>3.615939</td></tr>\n",
       "\t<tr><td>2.379106</td><td>2.565849</td></tr>\n",
       "\t<tr><td>1.628604</td><td>2.593191</td></tr>\n",
       "</tbody>\n",
       "</table>\n"
      ],
      "text/latex": [
       "\\begin{tabular}{r|ll}\n",
       " x1 & x2\\\\\n",
       "\\hline\n",
       "\t 1.826408 & 4.623533\\\\\n",
       "\t 3.771811 & 1.574504\\\\\n",
       "\t 1.210247 & 3.719750\\\\\n",
       "\t 1.231272 & 3.615939\\\\\n",
       "\t 2.379106 & 2.565849\\\\\n",
       "\t 1.628604 & 2.593191\\\\\n",
       "\\end{tabular}\n"
      ],
      "text/markdown": [
       "\n",
       "x1 | x2 | \n",
       "|---|---|---|---|---|---|\n",
       "| 1.826408 | 4.623533 | \n",
       "| 3.771811 | 1.574504 | \n",
       "| 1.210247 | 3.719750 | \n",
       "| 1.231272 | 3.615939 | \n",
       "| 2.379106 | 2.565849 | \n",
       "| 1.628604 | 2.593191 | \n",
       "\n",
       "\n"
      ],
      "text/plain": [
       "  x1       x2      \n",
       "1 1.826408 4.623533\n",
       "2 3.771811 1.574504\n",
       "3 1.210247 3.719750\n",
       "4 1.231272 3.615939\n",
       "5 2.379106 2.565849\n",
       "6 1.628604 2.593191"
      ]
     },
     "metadata": {},
     "output_type": "display_data"
    }
   ],
   "source": [
    "asymmetric_df = read.csv(\"asymmetric.dat\"), header = FALSE, sep = \"\")\n",
    "colnames(asymmetric_df) = c(\"x1\",\"x2\") \n",
    "head(asymmetric_df)"
   ]
  },
  {
   "cell_type": "code",
   "execution_count": 20,
   "metadata": {},
   "outputs": [
    {
     "data": {
      "text/html": [
       "<ol class=list-inline>\n",
       "\t<li>20</li>\n",
       "\t<li>2</li>\n",
       "</ol>\n"
      ],
      "text/latex": [
       "\\begin{enumerate*}\n",
       "\\item 20\n",
       "\\item 2\n",
       "\\end{enumerate*}\n"
      ],
      "text/markdown": [
       "1. 20\n",
       "2. 2\n",
       "\n",
       "\n"
      ],
      "text/plain": [
       "[1] 20  2"
      ]
     },
     "metadata": {},
     "output_type": "display_data"
    }
   ],
   "source": [
    "dim(asymmetric_df)"
   ]
  },
  {
   "cell_type": "markdown",
   "metadata": {},
   "source": [
    "#### Generating the residuals"
   ]
  },
  {
   "cell_type": "markdown",
   "metadata": {},
   "source": [
    "$u = (F_1^{-1}(U) - 1)/\\sqrt{2}$ with $F_1^{-1}$ the chi-squared distribution with one degree of freedom and U a random number from the uniform distribution U(0,1)."
   ]
  },
  {
   "cell_type": "code",
   "execution_count": 21,
   "metadata": {
    "collapsed": true
   },
   "outputs": [],
   "source": [
    "u_vector = c()\n",
    "\n",
    "for (m in 1:999) {\n",
    "    \n",
    "    U = runif(20)\n",
    "    u = (qchisq(U, df=1) - 1)/sqrt(2)\n",
    "    u_vector = c(u_vector, u)\n",
    "    }"
   ]
  },
  {
   "cell_type": "code",
   "execution_count": 22,
   "metadata": {},
   "outputs": [
    {
     "data": {
      "text/html": [
       "0.00886500778846487"
      ],
      "text/latex": [
       "0.00886500778846487"
      ],
      "text/markdown": [
       "0.00886500778846487"
      ],
      "text/plain": [
       "[1] 0.008865008"
      ]
     },
     "metadata": {},
     "output_type": "display_data"
    }
   ],
   "source": [
    "mean(u_vector)"
   ]
  },
  {
   "cell_type": "code",
   "execution_count": 23,
   "metadata": {},
   "outputs": [
    {
     "data": {
      "text/html": [
       "1.03413132478855"
      ],
      "text/latex": [
       "1.03413132478855"
      ],
      "text/markdown": [
       "1.03413132478855"
      ],
      "text/plain": [
       "[1] 1.034131"
      ]
     },
     "metadata": {},
     "output_type": "display_data"
    }
   ],
   "source": [
    "var(u_vector)"
   ]
  },
  {
   "cell_type": "markdown",
   "metadata": {},
   "source": [
    "As we can notice $E(u) = 0$ and $Var(u) = 1$"
   ]
  },
  {
   "cell_type": "markdown",
   "metadata": {},
   "source": [
    "y is genered in this way: \n",
    "\n",
    "$y = 1 + 0 * x_1 - 2 * x_2 + u = 1 - 2 * x_2 + u $"
   ]
  },
  {
   "cell_type": "markdown",
   "metadata": {},
   "source": [
    "#### Statistical test: \n",
    "\n",
    "$H_0 : \\beta_1 = 0 \\\\ \n",
    "t = \\frac{\\hat{\\beta}_1}{\\hat{\\sigma}_{\\hat{\\beta}_1}}$"
   ]
  },
  {
   "cell_type": "code",
   "execution_count": 24,
   "metadata": {},
   "outputs": [
    {
     "data": {
      "text/html": [
       "<table>\n",
       "<thead><tr><th scope=col>x1</th><th scope=col>x2</th><th scope=col>y</th></tr></thead>\n",
       "<tbody>\n",
       "\t<tr><td>1.826408  </td><td>4.623533  </td><td>-7.6091088</td></tr>\n",
       "\t<tr><td>3.771811  </td><td>1.574504  </td><td> 0.8775827</td></tr>\n",
       "\t<tr><td>1.210247  </td><td>3.719750  </td><td>-6.4847723</td></tr>\n",
       "\t<tr><td>1.231272  </td><td>3.615939  </td><td>-6.5145148</td></tr>\n",
       "\t<tr><td>2.379106  </td><td>2.565849  </td><td>-4.7826084</td></tr>\n",
       "\t<tr><td>1.628604  </td><td>2.593191  </td><td>-2.4791210</td></tr>\n",
       "</tbody>\n",
       "</table>\n"
      ],
      "text/latex": [
       "\\begin{tabular}{r|lll}\n",
       " x1 & x2 & y\\\\\n",
       "\\hline\n",
       "\t 1.826408   & 4.623533   & -7.6091088\\\\\n",
       "\t 3.771811   & 1.574504   &  0.8775827\\\\\n",
       "\t 1.210247   & 3.719750   & -6.4847723\\\\\n",
       "\t 1.231272   & 3.615939   & -6.5145148\\\\\n",
       "\t 2.379106   & 2.565849   & -4.7826084\\\\\n",
       "\t 1.628604   & 2.593191   & -2.4791210\\\\\n",
       "\\end{tabular}\n"
      ],
      "text/markdown": [
       "\n",
       "x1 | x2 | y | \n",
       "|---|---|---|---|---|---|\n",
       "| 1.826408   | 4.623533   | -7.6091088 | \n",
       "| 3.771811   | 1.574504   |  0.8775827 | \n",
       "| 1.210247   | 3.719750   | -6.4847723 | \n",
       "| 1.231272   | 3.615939   | -6.5145148 | \n",
       "| 2.379106   | 2.565849   | -4.7826084 | \n",
       "| 1.628604   | 2.593191   | -2.4791210 | \n",
       "\n",
       "\n"
      ],
      "text/plain": [
       "  x1       x2       y         \n",
       "1 1.826408 4.623533 -7.6091088\n",
       "2 3.771811 1.574504  0.8775827\n",
       "3 1.210247 3.719750 -6.4847723\n",
       "4 1.231272 3.615939 -6.5145148\n",
       "5 2.379106 2.565849 -4.7826084\n",
       "6 1.628604 2.593191 -2.4791210"
      ]
     },
     "metadata": {},
     "output_type": "display_data"
    }
   ],
   "source": [
    "U = runif(20)\n",
    "u = (qchisq(U, df=1) - 1)/sqrt(2)\n",
    "asymmetric_df[\"y\"] = 1 - 2 * asymmetric_df$x2 + u\n",
    "head(asymmetric_df)"
   ]
  },
  {
   "cell_type": "code",
   "execution_count": 25,
   "metadata": {},
   "outputs": [
    {
     "data": {
      "text/plain": [
       "\n",
       "Call:\n",
       "lm(formula = y ~ x1 + x2, data = asymmetric_df)\n",
       "\n",
       "Residuals:\n",
       "    Min      1Q  Median      3Q     Max \n",
       "-1.5172 -0.9813 -0.3156  0.2305  3.6620 \n",
       "\n",
       "Coefficients:\n",
       "            Estimate Std. Error t value Pr(>|t|)    \n",
       "(Intercept)  -0.8579     1.9126  -0.449 0.659410    \n",
       "x1            0.4907     0.3677   1.335 0.199620    \n",
       "x2           -1.7043     0.3902  -4.368 0.000419 ***\n",
       "---\n",
       "Signif. codes:  0 '***' 0.001 '**' 0.01 '*' 0.05 '.' 0.1 ' ' 1\n",
       "\n",
       "Residual standard error: 1.421 on 17 degrees of freedom\n",
       "Multiple R-squared:  0.7331,\tAdjusted R-squared:  0.7018 \n",
       "F-statistic: 23.35 on 2 and 17 DF,  p-value: 1.328e-05\n"
      ]
     },
     "metadata": {},
     "output_type": "display_data"
    }
   ],
   "source": [
    "regression = lm(y ~ x1 + x2, data = asymmetric_df)\n",
    "summary(regression)"
   ]
  },
  {
   "cell_type": "code",
   "execution_count": 26,
   "metadata": {
    "collapsed": true
   },
   "outputs": [],
   "source": [
    "# initial statistics test\n",
    "cova = vcov(regression)\n",
    "t0 = regression$coefficients[\"x1\"]/sqrt(cova[\"x1\",\"x1\"])"
   ]
  },
  {
   "cell_type": "code",
   "execution_count": 27,
   "metadata": {},
   "outputs": [
    {
     "name": "stdout",
     "output_type": "stream",
     "text": [
      " p_value =  0.0950951 \n",
      " variance =  8.613816e-05"
     ]
    }
   ],
   "source": [
    "T = c()\n",
    "for (m in 1:999) {\n",
    "    \n",
    "    U = runif(20)\n",
    "    u = (qchisq(U, df=1) - 1)/sqrt(2)\n",
    "    asymmetric_df[\"y\"] = 1 - 2 * asymmetric_df$x2 + u\n",
    "    \n",
    "    reg = lm(y ~ x1 + x2, data = asymmetric_df)\n",
    "    cova = vcov(reg)\n",
    "    \n",
    "    #test stats\n",
    "    t = reg$coefficients[\"x1\"]/sqrt(cova[\"x1\",\"x1\"])\n",
    "    \n",
    "    T = c(T, t)\n",
    "    \n",
    "    }\n",
    "\n",
    "p_value = mean(as.integer(T>t0))\n",
    "variance = p_value * (1 - p_value)/999\n",
    "cat(\" p_value = \",p_value, \"\\n\", \"variance = \", variance)"
   ]
  },
  {
   "cell_type": "markdown",
   "metadata": {},
   "source": [
    "As the p-value is greater than 5%, we do not reject the null hypotheses at the critical value of 5%. So $\\beta_1 = 0$"
   ]
  },
  {
   "cell_type": "markdown",
   "metadata": {},
   "source": [
    "#### Variance reduction"
   ]
  },
  {
   "cell_type": "markdown",
   "metadata": {},
   "source": [
    "$ w = \\Phi^{-1}(U)$ with $\\Phi$ the CDF of standard normal"
   ]
  },
  {
   "cell_type": "markdown",
   "metadata": {},
   "source": [
    "Let's define a new covariate z such that: \n",
    "\n",
    "$z=\\dfrac{u - w}{2}$"
   ]
  },
  {
   "cell_type": "markdown",
   "metadata": {},
   "source": [
    "$E(z) = \\dfrac{E(u) - E(w)}{2} = 0$"
   ]
  },
  {
   "cell_type": "markdown",
   "metadata": {},
   "source": [
    "$Var(z) = \\frac{1}{4} [Var(u) + Var(w) - 2 Cov(u,w)]\\\\\n",
    "Var(z) = \\frac{1}{2} [1 - cov((F_1^{-1}(U) - 1)/\\sqrt{2}, \\mbox{ }\\Phi^{-1}(U))]\\\\\n",
    "Var(z) = \\frac{1}{2} [1 - \\frac{1}{\\sqrt{2}} cov(F_1^{-1}(U), \\mbox{ }\\Phi^{-1}(U))] < Var (u) = 1 \\mbox{  cause } cov(F_1^{-1}(U), \\mbox{ }\\Phi^{-1}(U)) > 0$"
   ]
  },
  {
   "cell_type": "markdown",
   "metadata": {},
   "source": [
    "Variance of the rejection probability : \n",
    "\n",
    "$ Var(\\hat{P}_{value}) = \\dfrac{1}{N} Pr( t_i > t_0) [1 - Pr( t_i > t_0)]$ \n",
    "\n",
    "with N the number of samples"
   ]
  },
  {
   "cell_type": "markdown",
   "metadata": {},
   "source": [
    "Estimation of $Var(\\hat{P}_{value})$ : "
   ]
  },
  {
   "cell_type": "code",
   "execution_count": 28,
   "metadata": {
    "collapsed": true
   },
   "outputs": [],
   "source": [
    "# initial statistics test using z instead of u\n",
    "U = runif(20)\n",
    "u = (qchisq(U, df=1) - 1)/sqrt(2)\n",
    "w = qnorm(U)\n",
    "z = (u - w)/2\n",
    "asymmetric_df[\"y\"] = 1 - 2 * asymmetric_df$x2 + u\n",
    "asymmetric_df[\"y_z\"] = 1 - 2 * asymmetric_df$x2 + z\n",
    "\n",
    "regression = lm(y_z ~ x1 + x2, data = asymmetric_df)\n",
    "regression_z = lm(y_z ~ x1 + x2, data = asymmetric_df)\n",
    "\n",
    "cova = vcov(regression)\n",
    "\n",
    "t0 = regression$coefficients[\"x1\"]/sqrt(cova[\"x1\",\"x1\"])\n",
    "\n",
    "cova = vcov(regression_z)\n",
    "t0_z = regression$coefficients[\"x1\"]/sqrt(cova[\"x1\",\"x1\"])"
   ]
  },
  {
   "cell_type": "code",
   "execution_count": 29,
   "metadata": {
    "collapsed": true
   },
   "outputs": [],
   "source": [
    "#estimating the p_value 99 times with samples of 99 observations\n",
    "T = c(); T_z = c()\n",
    "P_value = c()\n",
    "P_value_z = c()\n",
    "for (s in 1:99) { \n",
    "    for (m in 1:99) {\n",
    "\n",
    "        U = runif(20)\n",
    "        u = (qchisq(U, df=1) - 1)/sqrt(2)\n",
    "        w = qnorm(U)\n",
    "        z= (u - w)/2\n",
    "\n",
    "        #with u \n",
    "        asymmetric_df[\"y\"] = 1 - 2 * asymmetric_df$x2 + u\n",
    "\n",
    "        reg = lm(y ~ x1 + x2, data = asymmetric_df)\n",
    "        cova = vcov(reg)\n",
    "\n",
    "        #test stats\n",
    "\n",
    "        t = reg$coefficients[\"x1\"]/sqrt(cova[\"x1\",\"x1\"])\n",
    "\n",
    "        T = c(T, t)\n",
    "\n",
    "\n",
    "        #with z\n",
    "\n",
    "        asymmetric_df[\"y_z\"] = 1 - 2 * asymmetric_df$x2 + z\n",
    "\n",
    "        reg = lm(y_z ~ x1 + x2, data = asymmetric_df)\n",
    "        cova = vcov(reg)\n",
    "\n",
    "        t_z = reg$coefficients[\"x1\"]/sqrt(cova[\"x1\",\"x1\"])\n",
    "\n",
    "        T_z = c(T_z, t_z)\n",
    "\n",
    "        }\n",
    "\n",
    "    p_value = mean(as.integer(T>t0))\n",
    "\n",
    "    p_value_z = mean(as.integer(T_z>t0_z))\n",
    "\n",
    "\n",
    "    P_value = c(P_value, p_value)\n",
    "    P_value_z = c(P_value_z, p_value_z)\n",
    "\n",
    "    }"
   ]
  },
  {
   "cell_type": "code",
   "execution_count": 30,
   "metadata": {},
   "outputs": [
    {
     "data": {
      "text/html": [
       "0.000190093554066684"
      ],
      "text/latex": [
       "0.000190093554066684"
      ],
      "text/markdown": [
       "0.000190093554066684"
      ],
      "text/plain": [
       "[1] 0.0001900936"
      ]
     },
     "metadata": {},
     "output_type": "display_data"
    }
   ],
   "source": [
    "var(P_value)"
   ]
  },
  {
   "cell_type": "code",
   "execution_count": 31,
   "metadata": {},
   "outputs": [
    {
     "data": {
      "text/html": [
       "6.67419153106019e-05"
      ],
      "text/latex": [
       "6.67419153106019e-05"
      ],
      "text/markdown": [
       "6.67419153106019e-05"
      ],
      "text/plain": [
       "[1] 6.674192e-05"
      ]
     },
     "metadata": {},
     "output_type": "display_data"
    }
   ],
   "source": [
    "var(P_value_z)"
   ]
  },
  {
   "cell_type": "markdown",
   "metadata": {},
   "source": [
    "$Var(P_{value}(u)) = 1.9 *10^{-4} > Var(P_{value}(z)) = 6.67*10^{-5}$"
   ]
  },
  {
   "cell_type": "markdown",
   "metadata": {},
   "source": [
    "As we can see, the variance of the P-value got using $z$ is clearly less than the one got using $u$ "
   ]
  },
  {
   "cell_type": "markdown",
   "metadata": {},
   "source": [
    "#### Comments"
   ]
  },
  {
   "cell_type": "markdown",
   "metadata": {},
   "source": [
    "If the variance of the disturbances is different from 1, or if the values of the parameters $\\alpha$ and $\\beta_2$ were different, the results of the simulation experiment (such as the estmated $P_{value}$) would very likely change, but the result of the hypothesis testing $H_0 : \\beta_1 = 0$ should remain stable if we generate the data using this condition."
   ]
  }
 ],
 "metadata": {
  "kernelspec": {
   "display_name": "R",
   "language": "R",
   "name": "ir"
  },
  "language_info": {
   "codemirror_mode": "r",
   "file_extension": ".r",
   "mimetype": "text/x-r-source",
   "name": "R",
   "pygments_lexer": "r",
   "version": "3.4.1"
  }
 },
 "nbformat": 4,
 "nbformat_minor": 2
}
